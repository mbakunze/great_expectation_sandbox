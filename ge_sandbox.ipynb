{
 "cells": [
  {
   "cell_type": "markdown",
   "metadata": {},
   "source": [
    "# Tiny great_expectations sandbox example"
   ]
  },
  {
   "cell_type": "code",
   "execution_count": 17,
   "metadata": {},
   "outputs": [
    {
     "data": {
      "text/html": [
       "<div>\n",
       "<style scoped>\n",
       "    .dataframe tbody tr th:only-of-type {\n",
       "        vertical-align: middle;\n",
       "    }\n",
       "\n",
       "    .dataframe tbody tr th {\n",
       "        vertical-align: top;\n",
       "    }\n",
       "\n",
       "    .dataframe thead th {\n",
       "        text-align: right;\n",
       "    }\n",
       "</style>\n",
       "<table border=\"1\" class=\"dataframe\">\n",
       "  <thead>\n",
       "    <tr style=\"text-align: right;\">\n",
       "      <th></th>\n",
       "      <th>order_id</th>\n",
       "      <th>price</th>\n",
       "    </tr>\n",
       "  </thead>\n",
       "  <tbody>\n",
       "    <tr>\n",
       "      <th>0</th>\n",
       "      <td>a123</td>\n",
       "      <td>10</td>\n",
       "    </tr>\n",
       "    <tr>\n",
       "      <th>1</th>\n",
       "      <td>b123</td>\n",
       "      <td>100</td>\n",
       "    </tr>\n",
       "    <tr>\n",
       "      <th>2</th>\n",
       "      <td>c123</td>\n",
       "      <td>50</td>\n",
       "    </tr>\n",
       "  </tbody>\n",
       "</table>\n",
       "</div>"
      ],
      "text/plain": [
       "  order_id  price\n",
       "0     a123     10\n",
       "1     b123    100\n",
       "2     c123     50"
      ]
     },
     "execution_count": 17,
     "metadata": {},
     "output_type": "execute_result"
    }
   ],
   "source": [
    "import great_expectations as ge\n",
    "import pandas as pd\n",
    "from datetime import datetime\n",
    "\n",
    "# assumes you are running in a location with initialized great_expectations\n",
    "context = ge.DataContext()\n",
    "\n",
    "# define some demo data\n",
    "dataset_name = \"orders\"\n",
    "orders = {\"order_id\": [\"a123\", \"b123\", \"c123\"], \"price\": [10, 100, 50]}\n",
    "df = pd.DataFrame(orders)\n",
    "batch_kwargs = {\"dataset\": df, \"datasource\": dataset_name}\n",
    "\n",
    "# before we can use a datasource - we need to add it to the context (if it does not exist)\n",
    "# you can do this also with the CLI interactively if preferred\n",
    "context.add_datasource(\"orders\", class_name=\"PandasDatasource\", overwrite_existing=True)\n",
    "\n",
    "\n",
    "# create an empty suite and check the batch\n",
    "expectation_suite = context.create_expectation_suite(\"orders_expectations\", overwrite_existing=True)\n",
    "batch = context.get_batch(batch_kwargs, expectation_suite_name=\"orders_expectations\")\n",
    "batch.head()"
   ]
  },
  {
   "cell_type": "code",
   "execution_count": 18,
   "metadata": {},
   "outputs": [
    {
     "data": {
      "text/plain": [
       "{\n",
       "  \"success\": false,\n",
       "  \"meta\": {},\n",
       "  \"result\": {\n",
       "    \"observed_value\": 50.0,\n",
       "    \"element_count\": 3,\n",
       "    \"missing_count\": null,\n",
       "    \"missing_percent\": null\n",
       "  },\n",
       "  \"exception_info\": null\n",
       "}"
      ]
     },
     "execution_count": 18,
     "metadata": {},
     "output_type": "execute_result"
    }
   ],
   "source": [
    "# add a simple expectation\n",
    "batch.expect_column_median_to_be_between(column=\"price\", min_value=20, max_value=30)\n"
   ]
  },
  {
   "cell_type": "code",
   "execution_count": 19,
   "metadata": {},
   "outputs": [
    {
     "data": {
      "text/plain": [
       "{\n",
       "  \"success\": true,\n",
       "  \"meta\": {},\n",
       "  \"result\": {\n",
       "    \"observed_value\": 50.0,\n",
       "    \"element_count\": 3,\n",
       "    \"missing_count\": null,\n",
       "    \"missing_percent\": null\n",
       "  },\n",
       "  \"exception_info\": null\n",
       "}"
      ]
     },
     "execution_count": 19,
     "metadata": {},
     "output_type": "execute_result"
    }
   ],
   "source": [
    "# ok, lets adjust then\n",
    "batch.expect_column_median_to_be_between(column=\"price\", min_value=20, max_value=70)"
   ]
  },
  {
   "cell_type": "markdown",
   "metadata": {},
   "source": [
    "### Observe unexpected data\n",
    "If the validation is not successful, the result will show you what it observed instead or which values where unexpected. This is quite important to act quickly when you investigate an issue."
   ]
  },
  {
   "cell_type": "code",
   "execution_count": 20,
   "metadata": {},
   "outputs": [
    {
     "data": {
      "text/plain": [
       "{\n",
       "  \"success\": false,\n",
       "  \"meta\": {},\n",
       "  \"result\": {\n",
       "    \"element_count\": 3,\n",
       "    \"missing_count\": 0,\n",
       "    \"missing_percent\": 0.0,\n",
       "    \"unexpected_count\": 3,\n",
       "    \"unexpected_percent\": 100.0,\n",
       "    \"unexpected_percent_nonmissing\": 100.0,\n",
       "    \"partial_unexpected_list\": [\n",
       "      \"a123\",\n",
       "      \"b123\",\n",
       "      \"c123\"\n",
       "    ]\n",
       "  },\n",
       "  \"exception_info\": null\n",
       "}"
      ]
     },
     "execution_count": 20,
     "metadata": {},
     "output_type": "execute_result"
    }
   ],
   "source": [
    "# check format of order_id\n",
    "batch.expect_column_values_to_match_regex(column=\"order_id\", regex=\"^[0-9]{1}[a-z]{3}$\")"
   ]
  },
  {
   "cell_type": "code",
   "execution_count": 21,
   "metadata": {},
   "outputs": [
    {
     "data": {
      "text/plain": [
       "{\n",
       "  \"success\": true,\n",
       "  \"meta\": {},\n",
       "  \"result\": {\n",
       "    \"element_count\": 3,\n",
       "    \"missing_count\": 0,\n",
       "    \"missing_percent\": 0.0,\n",
       "    \"unexpected_count\": 0,\n",
       "    \"unexpected_percent\": 0.0,\n",
       "    \"unexpected_percent_nonmissing\": 0.0,\n",
       "    \"partial_unexpected_list\": []\n",
       "  },\n",
       "  \"exception_info\": null\n",
       "}"
      ]
     },
     "execution_count": 21,
     "metadata": {},
     "output_type": "execute_result"
    }
   ],
   "source": [
    "# ok, I am bad at regular expressions, but at least I am told what is wrong here :P \n",
    "batch.expect_column_values_to_match_regex(column=\"order_id\", regex=\"^[a-z]{1}[0-9]{3}$\")"
   ]
  },
  {
   "cell_type": "markdown",
   "metadata": {},
   "source": [
    "There are plenty of options to run the validation, and the actions are fully configurable using the `great_expectations.yml` file. "
   ]
  },
  {
   "cell_type": "code",
   "execution_count": 30,
   "metadata": {},
   "outputs": [],
   "source": [
    "# save suite to json\n",
    "batch.save_expectation_suite(discard_failed_expectations=True)"
   ]
  },
  {
   "cell_type": "code",
   "execution_count": 32,
   "metadata": {},
   "outputs": [
    {
     "data": {
      "text/plain": [
       "{\n",
       "  \"data_asset_type\": \"Dataset\",\n",
       "  \"expectations\": [\n",
       "    {\n",
       "      \"meta\": {},\n",
       "      \"expectation_type\": \"expect_column_median_to_be_between\",\n",
       "      \"kwargs\": {\n",
       "        \"column\": \"price\",\n",
       "        \"max_value\": 70,\n",
       "        \"min_value\": 20\n",
       "      }\n",
       "    },\n",
       "    {\n",
       "      \"meta\": {},\n",
       "      \"expectation_type\": \"expect_column_values_to_match_regex\",\n",
       "      \"kwargs\": {\n",
       "        \"column\": \"order_id\",\n",
       "        \"regex\": \"^[a-z]{1}[0-9]{3}$\"\n",
       "      }\n",
       "    }\n",
       "  ],\n",
       "  \"meta\": {\n",
       "    \"great_expectations_version\": \"0.12.7\"\n",
       "  },\n",
       "  \"expectation_suite_name\": \"orders_expectations\"\n",
       "}"
      ]
     },
     "execution_count": 32,
     "metadata": {},
     "output_type": "execute_result"
    }
   ],
   "source": [
    "# reload suite from json\n",
    "context.get_expectation_suite(\"orders_expectations\")"
   ]
  },
  {
   "cell_type": "code",
   "execution_count": 36,
   "metadata": {},
   "outputs": [],
   "source": [
    "# validate a batch\n",
    "validation_batch = context.get_batch(batch_kwargs, \"orders_expectations\")\n",
    "validation_result = context.run_validation_operator(\"action_list_operator\", [validation_batch])"
   ]
  },
  {
   "cell_type": "code",
   "execution_count": 37,
   "metadata": {},
   "outputs": [
    {
     "data": {
      "text/plain": [
       "{\n",
       "  \"run_results\": {\n",
       "    \"ValidationResultIdentifier::orders_expectations/20201102T214649.650882Z/20201102T214649.650882Z/fed6cf73bcf55959152cffca73a7a518\": {\n",
       "      \"validation_result\": {\n",
       "        \"evaluation_parameters\": {},\n",
       "        \"success\": true,\n",
       "        \"results\": [\n",
       "          {\n",
       "            \"success\": true,\n",
       "            \"expectation_config\": {\n",
       "              \"meta\": {},\n",
       "              \"expectation_type\": \"expect_column_median_to_be_between\",\n",
       "              \"kwargs\": {\n",
       "                \"column\": \"price\",\n",
       "                \"max_value\": 70,\n",
       "                \"min_value\": 20,\n",
       "                \"result_format\": {\n",
       "                  \"result_format\": \"SUMMARY\"\n",
       "                }\n",
       "              }\n",
       "            },\n",
       "            \"meta\": {},\n",
       "            \"result\": {\n",
       "              \"observed_value\": 50.0,\n",
       "              \"element_count\": 3,\n",
       "              \"missing_count\": null,\n",
       "              \"missing_percent\": null\n",
       "            },\n",
       "            \"exception_info\": {\n",
       "              \"raised_exception\": false,\n",
       "              \"exception_message\": null,\n",
       "              \"exception_traceback\": null\n",
       "            }\n",
       "          },\n",
       "          {\n",
       "            \"success\": true,\n",
       "            \"expectation_config\": {\n",
       "              \"meta\": {},\n",
       "              \"expectation_type\": \"expect_column_values_to_match_regex\",\n",
       "              \"kwargs\": {\n",
       "                \"column\": \"order_id\",\n",
       "                \"regex\": \"^[a-z]{1}[0-9]{3}$\",\n",
       "                \"result_format\": {\n",
       "                  \"result_format\": \"SUMMARY\"\n",
       "                }\n",
       "              }\n",
       "            },\n",
       "            \"meta\": {},\n",
       "            \"result\": {\n",
       "              \"element_count\": 3,\n",
       "              \"missing_count\": 0,\n",
       "              \"missing_percent\": 0.0,\n",
       "              \"unexpected_count\": 0,\n",
       "              \"unexpected_percent\": 0.0,\n",
       "              \"unexpected_percent_nonmissing\": 0.0,\n",
       "              \"partial_unexpected_list\": [],\n",
       "              \"partial_unexpected_index_list\": [],\n",
       "              \"partial_unexpected_counts\": []\n",
       "            },\n",
       "            \"exception_info\": {\n",
       "              \"raised_exception\": false,\n",
       "              \"exception_message\": null,\n",
       "              \"exception_traceback\": null\n",
       "            }\n",
       "          }\n",
       "        ],\n",
       "        \"meta\": {\n",
       "          \"great_expectations_version\": \"0.12.7\",\n",
       "          \"expectation_suite_name\": \"orders_expectations\",\n",
       "          \"run_id\": {\n",
       "            \"run_name\": \"20201102T214649.650882Z\",\n",
       "            \"run_time\": \"2020-11-02T21:46:49.650882+00:00\"\n",
       "          },\n",
       "          \"batch_kwargs\": {\n",
       "            \"datasource\": \"orders\",\n",
       "            \"PandasInMemoryDF\": true,\n",
       "            \"ge_batch_id\": \"e9797f8c-1d54-11eb-9f6a-acde48001122\"\n",
       "          },\n",
       "          \"batch_markers\": {\n",
       "            \"ge_load_time\": \"20201102T214649.644350Z\",\n",
       "            \"pandas_data_fingerprint\": \"da33bc40ff4c1139a0c442923ec483d2\"\n",
       "          },\n",
       "          \"batch_parameters\": null,\n",
       "          \"validation_time\": \"20201102T214649.651762Z\"\n",
       "        },\n",
       "        \"statistics\": {\n",
       "          \"evaluated_expectations\": 2,\n",
       "          \"successful_expectations\": 2,\n",
       "          \"unsuccessful_expectations\": 0,\n",
       "          \"success_percent\": 100.0\n",
       "        }\n",
       "      },\n",
       "      \"actions_results\": {\n",
       "        \"store_validation_result\": {\n",
       "          \"class\": \"StoreValidationResultAction\"\n",
       "        },\n",
       "        \"store_evaluation_params\": {\n",
       "          \"class\": \"StoreEvaluationParametersAction\"\n",
       "        },\n",
       "        \"update_data_docs\": {\n",
       "          \"local_site\": \"file:///Users/micha/repos/great_expectation_sandbox/great_expectations/uncommitted/data_docs/local_site/validations/orders_expectations/20201102T214649.650882Z/20201102T214649.650882Z/fed6cf73bcf55959152cffca73a7a518.html\",\n",
       "          \"class\": \"UpdateDataDocsAction\"\n",
       "        }\n",
       "      }\n",
       "    }\n",
       "  },\n",
       "  \"run_id\": {\n",
       "    \"run_name\": \"20201102T214649.650882Z\",\n",
       "    \"run_time\": \"2020-11-02T21:46:49.650882+00:00\"\n",
       "  },\n",
       "  \"evaluation_parameters\": null,\n",
       "  \"success\": true,\n",
       "  \"validation_operator_config\": {\n",
       "    \"class_name\": \"ActionListValidationOperator\",\n",
       "    \"module_name\": \"great_expectations.validation_operators\",\n",
       "    \"name\": \"action_list_operator\",\n",
       "    \"kwargs\": {\n",
       "      \"action_list\": [\n",
       "        {\n",
       "          \"name\": \"store_validation_result\",\n",
       "          \"action\": {\n",
       "            \"class_name\": \"StoreValidationResultAction\"\n",
       "          }\n",
       "        },\n",
       "        {\n",
       "          \"name\": \"store_evaluation_params\",\n",
       "          \"action\": {\n",
       "            \"class_name\": \"StoreEvaluationParametersAction\"\n",
       "          }\n",
       "        },\n",
       "        {\n",
       "          \"name\": \"update_data_docs\",\n",
       "          \"action\": {\n",
       "            \"class_name\": \"UpdateDataDocsAction\"\n",
       "          }\n",
       "        }\n",
       "      ],\n",
       "      \"result_format\": {\n",
       "        \"result_format\": \"SUMMARY\",\n",
       "        \"partial_unexpected_count\": 20\n",
       "      }\n",
       "    }\n",
       "  }\n",
       "}"
      ]
     },
     "execution_count": 37,
     "metadata": {},
     "output_type": "execute_result"
    }
   ],
   "source": [
    "validation_result"
   ]
  },
  {
   "cell_type": "code",
   "execution_count": 39,
   "metadata": {},
   "outputs": [],
   "source": [
    "# uncomment and run locally - will open a browser with the results\n",
    "# context.build_data_docs()"
   ]
  }
 ],
 "metadata": {
  "kernelspec": {
   "display_name": "Python 3",
   "language": "python",
   "name": "python3"
  },
  "language_info": {
   "codemirror_mode": {
    "name": "ipython",
    "version": 3
   },
   "file_extension": ".py",
   "mimetype": "text/x-python",
   "name": "python",
   "nbconvert_exporter": "python",
   "pygments_lexer": "ipython3",
   "version": "3.7.3"
  }
 },
 "nbformat": 4,
 "nbformat_minor": 4
}
